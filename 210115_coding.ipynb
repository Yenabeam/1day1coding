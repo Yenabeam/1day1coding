{
 "metadata": {
  "language_info": {
   "codemirror_mode": {
    "name": "ipython",
    "version": 3
   },
   "file_extension": ".py",
   "mimetype": "text/x-python",
   "name": "python",
   "nbconvert_exporter": "python",
   "pygments_lexer": "ipython3",
   "version": "3.8.3-final"
  },
  "orig_nbformat": 2,
  "kernelspec": {
   "name": "python3",
   "display_name": "Python 3",
   "language": "python"
  }
 },
 "nbformat": 4,
 "nbformat_minor": 2,
 "cells": [
  {
   "cell_type": "code",
   "execution_count": 14,
   "metadata": {},
   "outputs": [
    {
     "output_type": "execute_result",
     "data": {
      "text/plain": [
       "'6210'"
      ]
     },
     "metadata": {},
     "execution_count": 14
    }
   ],
   "source": [
    "ls = [6,10,2]\n",
    "\n",
    "n1 = []\n",
    "n2 = []\n",
    "n3 = []\n",
    "\n",
    "for i in ls:\n",
    "    if i < 10:\n",
    "        n1.append(i)\n",
    "    elif i<100:\n",
    "        n2.append(i)\n",
    "    else:\n",
    "        n2.append(i)\n",
    "\n",
    "result = []\n",
    "for n in n1,n2,n3:\n",
    "    n.sort(reverse=True)\n",
    "    for i in n:\n",
    "        result.append(i)\n",
    "a = ''.join(map(str,result))\n",
    "\n",
    "# n1,n2,n3\n",
    "a"
   ]
  },
  {
   "cell_type": "code",
   "execution_count": 28,
   "metadata": {},
   "outputs": [
    {
     "output_type": "execute_result",
     "data": {
      "text/plain": [
       "'9533430'"
      ]
     },
     "metadata": {},
     "execution_count": 28
    }
   ],
   "source": [
    "# 함수로 만들어주기 \n",
    "import ast\n",
    "ls = [3, 30, 34, 5, 9]\t\n",
    "# number = ast.literal_eval(number)\n",
    "# ls = list(number)\n",
    "def solution(ls):\n",
    "    n1 = []\n",
    "    n2 = []\n",
    "    n3 = []\n",
    "    for i in ls:\n",
    "        i = int(i)\n",
    "        if i < 10:\n",
    "            n1.append(i)\n",
    "        elif i<100:\n",
    "            n2.append(i)\n",
    "        else:\n",
    "            n2.append(i)\n",
    "    result = []\n",
    "    for n in n1,n2,n3:\n",
    "        n.sort(reverse=True)\n",
    "        for i in n:\n",
    "            result.append(i)\n",
    "    a = ''.join(map(str,result))\n",
    "    return a \n",
    "\n",
    "solution(ls)"
   ]
  },
  {
   "cell_type": "code",
   "execution_count": 22,
   "metadata": {},
   "outputs": [
    {
     "output_type": "execute_result",
     "data": {
      "text/plain": [
       "(3, 5, 6, 7)"
      ]
     },
     "metadata": {},
     "execution_count": 22
    }
   ],
   "source": [
    "number"
   ]
  },
  {
   "cell_type": "code",
   "execution_count": 29,
   "metadata": {},
   "outputs": [],
   "source": [
    "\n",
    "import functools\n",
    "\n",
    "def comparator(a,b):\n",
    "    t1 = a+b\n",
    "    t2 = b+a\n",
    "    return (int(t1) > int(t2)) - (int(t1) < int(t2)) #  t1이 크다면 1  // t2가 크다면 -1  //  같으면 0\n",
    "\n",
    "def solution(numbers):\n",
    "    n = [str(x) for x in numbers]\n",
    "    n = sorted(n, key=functools.cmp_to_key(comparator),reverse=True)\n",
    "    answer = str(int(''.join(n)))\n",
    "    return answer"
   ]
  },
  {
   "cell_type": "code",
   "execution_count": null,
   "metadata": {},
   "outputs": [],
   "source": []
  },
  {
   "cell_type": "code",
   "execution_count": null,
   "metadata": {},
   "outputs": [],
   "source": []
  },
  {
   "cell_type": "code",
   "execution_count": null,
   "metadata": {},
   "outputs": [],
   "source": []
  }
 ]
}
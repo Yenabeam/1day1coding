{
 "metadata": {
  "language_info": {
   "codemirror_mode": {
    "name": "ipython",
    "version": 3
   },
   "file_extension": ".py",
   "mimetype": "text/x-python",
   "name": "python",
   "nbconvert_exporter": "python",
   "pygments_lexer": "ipython3",
   "version": "3.8.3-final"
  },
  "orig_nbformat": 2,
  "kernelspec": {
   "name": "python3",
   "display_name": "Python 3",
   "language": "python"
  }
 },
 "nbformat": 4,
 "nbformat_minor": 2,
 "cells": [
  {
   "source": [
    "# 숫자 카드게임 "
   ],
   "cell_type": "markdown",
   "metadata": {}
  },
  {
   "source": [
    "여러 개의 숫자 카드 중에서 가장 높은 숫자가 쓰인 카드 한 장을 뽑는 게임\n",
    "\n",
    "단, 게임의 룰을 지키며 뽑아야함\n",
    "\n",
    " \n",
    "\n",
    "1. 숫자가 쓰인 카드들이 N X M 형태로 놓여 있다. 이때 N은 행의 개수를 의미하고, M은 열의 개수를 의미\n",
    "\n",
    "2. 먼저 뽑고자 하는 카드가 포함된 행을 선택\n",
    "\n",
    "3. 선택된 행에 포함된 카드들 중 가장 숫자가 낮은 카드를 뽑음\n",
    "\n",
    "4. 처음에 카드를 골라낼 행을 선택할 때, 이후 해당 행에서 가장 숫자가 낮은 카드를 뽑아야 하는 것을 고려해 가장 높은 숫자를 뽑을 수 있도록 해야함\n",
    "\n",
    " \n",
    "\n",
    "입력 조건\n",
    "\n",
    "첫째 줄에 숫자 카드들이 놓인 행의 개수 N과 열의 개수 M이 공백을 기준으로 하여 각각 자연수로 주어짐\n",
    "\n",
    "(1 <= N, M <= 100)\n",
    "\n",
    "둘째 줄부터 N개의 줄에 걸쳐 각 카드에 적힌 숫자가 주어짐 각 숫자는 1이상 10000이하의 자연수"
   ],
   "cell_type": "markdown",
   "metadata": {}
  },
  {
   "source": [
    "아이디어 : 각 행마다 가장 작은 수를 찾은뒤에 그 수 중에서 가장 큰 수를 찾는 것 "
   ],
   "cell_type": "markdown",
   "metadata": {}
  },
  {
   "cell_type": "code",
   "execution_count": 23,
   "metadata": {},
   "outputs": [
    {
     "output_type": "stream",
     "name": "stdout",
     "text": [
      "2\n"
     ]
    }
   ],
   "source": [
    "# 풀이 \n",
    "n, m = map(int, input().split())\n",
    "# map() : iter데이터를 함수를 각각 적용, int 의 경우 형변환  \n",
    "result = 0  \n",
    "\n",
    "for i in range(n):\n",
    "    # 리스트 입력 받기 \n",
    "    data = list(map(int, input().split()))\n",
    "    # 현재 줄에서 가장 작은 수 찾기 \n",
    "    min_value = min(data)\n",
    "    # 가장 작은 수에서 가장 큰 수 찾기\n",
    "    result = max(result, min_value)\n",
    "print(result)\n"
   ]
  },
  {
   "source": [
    "# 1이 될때까지 "
   ],
   "cell_type": "markdown",
   "metadata": {}
  },
  {
   "source": [
    "문제 \n",
    "\n",
    "어떠한 수 N이 1이 될 때 까지 다음의 두 과정 중 하나를 반복적으로 선택해 수행하려 함\n",
    "\n",
    "단, 두번째 연산은 N이 K로 나누어 떨어질 때만 선택할 수 있음\n",
    "\n",
    "1. N에서 1을 뺀다.\n",
    "\n",
    "2. N을 K로 나눈다.\n",
    "\n",
    "N이 1이 될 때 까지 1번 혹은 2번의 과정을 수행해야하는 최소 횟수를 구하는 프로그램을 작성\n",
    "\n",
    "입력 조건\n",
    "\n",
    "첫째 줄에 N(2<= N <= 100000)과 K(2 <= K <= 100000)가 공백으로 구분되며 각각 자연수로 주어짐\n",
    "\n",
    "이때, 입력으로 주어지는 N은 항상 K보다 크거나 같음\n",
    "\n",
    "출력 조건\n",
    "\n",
    "첫째 줄에 N이 1이 될 때까지 1번 혹은 2번의 과정을 수행해야 하는 횟수의 최솟값을 출력"
   ],
   "cell_type": "markdown",
   "metadata": {}
  },
  {
   "cell_type": "code",
   "execution_count": 26,
   "metadata": {},
   "outputs": [
    {
     "output_type": "stream",
     "name": "stdout",
     "text": [
      "9\n"
     ]
    }
   ],
   "source": [
    "n, k = map(int, input().split())\n",
    "\n",
    "result = 0 \n",
    "# n이 k 이상이라면 k 로 계속나누기 \n",
    "\n",
    "while n >= k:\n",
    "    # n이 k로 나누어질때까지 1씩 빼기 \n",
    "    while n % k != 0:\n",
    "        n -= 1\n",
    "        result += 1 \n",
    "    n //= k \n",
    "    result += 1 \n",
    "\n",
    "while n > 1: \n",
    "    n -= 1 \n",
    "    result += 1 \n",
    "print(result)"
   ]
  },
  {
   "cell_type": "code",
   "execution_count": null,
   "metadata": {},
   "outputs": [],
   "source": []
  },
  {
   "cell_type": "code",
   "execution_count": null,
   "metadata": {},
   "outputs": [],
   "source": []
  },
  {
   "cell_type": "code",
   "execution_count": null,
   "metadata": {},
   "outputs": [],
   "source": []
  }
 ]
}